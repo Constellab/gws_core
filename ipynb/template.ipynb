{
 "cells": [
  {
   "cell_type": "code",
   "execution_count": null,
   "metadata": {},
   "outputs": [],
   "source": [
    "import env              \n",
    "cwd = env.activate()    #activate GWS environment -> cwd will contain the current working dir as abolute path\n",
    "\n",
    "# activate biota db in prodcution mode\n",
    "# from biota.base import DbManager\n",
    "# DbManager.use_prod_db(True)\n",
    "\n",
    "# write your code here ..."
   ]
  }
 ],
 "metadata": {
  "kernelspec": {
   "display_name": "Python 3",
   "language": "python",
   "name": "python3"
  },
  "language_info": {
   "codemirror_mode": {
    "name": "ipython",
    "version": 3
   },
   "file_extension": ".py",
   "mimetype": "text/x-python",
   "name": "python",
   "nbconvert_exporter": "python",
   "pygments_lexer": "ipython3",
   "version": "3.8.5"
  }
 },
 "nbformat": 4,
 "nbformat_minor": 4
}
